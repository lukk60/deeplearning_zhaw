{
 "cells": [
  {
   "cell_type": "code",
   "execution_count": 100,
   "metadata": {},
   "outputs": [],
   "source": [
    "import gzip\n",
    "import numpy as np\n",
    "import matplotlib.pyplot as plt\n",
    "import matplotlib.image as imgplot\n",
    "import time\n",
    "%matplotlib inline\n",
    "import h5py\n",
    "import os\n",
    "\n",
    "from keras.preprocessing.image import ImageDataGenerator\n",
    "from keras.models import Sequential\n",
    "from keras.layers import Conv2D, MaxPooling2D\n",
    "from keras.layers import Activation, Dropout, Flatten, Dense\n",
    "from keras import backend as K\n",
    "\n",
    "import matplotlib.pyplot as plt\n",
    "import matplotlib.image as imgplot\n",
    "import numpy as np\n",
    "\n",
    "from sklearn.metrics import confusion_matrix\n",
    "from keras.utils.vis_utils import model_to_dot\n",
    "\n",
    "import tensorflow as tf\n",
    "tf.set_random_seed(1)"
   ]
  },
  {
   "cell_type": "code",
   "execution_count": 101,
   "metadata": {
    "collapsed": true
   },
   "outputs": [],
   "source": [
    "def create_datagens(img_width, img_height, batch_size, train_dir, valid_dir):\n",
    "    # Data Generators\n",
    "    train_datagen = ImageDataGenerator(\n",
    "        rescale=1. / 255,\n",
    "        shear_range=0.2,\n",
    "        zoom_range=0.2,\n",
    "        horizontal_flip=True)\n",
    "\n",
    "    valid_datagen = ImageDataGenerator(\n",
    "        rescale=1. / 255)\n",
    "\n",
    "    train_generator = train_datagen.flow_from_directory(\n",
    "        train_dir,\n",
    "        target_size=(img_width, img_height),\n",
    "        batch_size = batch_size)\n",
    "\n",
    "    valid_generator = valid_datagen.flow_from_directory(\n",
    "        valid_dir,\n",
    "        target_size=(img_width, img_height),\n",
    "        batch_size=batch_size)\n",
    "    \n",
    "    return train_generator, valid_generator"
   ]
  },
  {
   "cell_type": "code",
   "execution_count": 113,
   "metadata": {
    "scrolled": true
   },
   "outputs": [
    {
     "name": "stdout",
     "output_type": "stream",
     "text": [
      "Found 941 images belonging to 3 classes.\n",
      "Found 164 images belonging to 3 classes.\n",
      "15\n"
     ]
    },
    {
     "data": {
      "text/plain": [
       "{'Aussenansicht': 0, 'Grundriss': 1, 'Innenansicht': 2}"
      ]
     },
     "execution_count": 113,
     "metadata": {},
     "output_type": "execute_result"
    }
   ],
   "source": [
    "# parameters\n",
    "img_width = 150\n",
    "img_height = 150\n",
    "\n",
    "train_dir = '/Users/julia/Documents/MAS Data Science/CAS Machine Learning/Deep Learning/Exercises/DL_Project/clean/train/'\n",
    "valid_dir = '/Users/julia/Documents/MAS Data Science/CAS Machine Learning/Deep Learning/Exercises/DL_Project/clean/valid/'\n",
    "test_dir = '/Users/julia/Documents/MAS Data Science/CAS Machine Learning/Deep Learning/Exercises/DL_Project/clean/test/'\n",
    "\n",
    "batch_size = 64\n",
    "epochs = 20\n",
    "\n",
    "n_train = len(os.listdir(train_dir))\n",
    "n_valid = len(os.listdir(valid_dir))\n",
    "\n",
    "# preprocessing\n",
    "train_generator, valid_generator = create_datagens(img_width, img_height, batch_size, train_dir, valid_dir)\n",
    "\n",
    "print(len(train_generator))\n",
    "\n",
    "train_generator[1][0][0][0]\n",
    "train_generator.class_indices\n",
    "# train_generator.y\n",
    "\n",
    "# network layout\n",
    "# model, name = define_network(img_width, img_height)"
   ]
  },
  {
   "cell_type": "code",
   "execution_count": 114,
   "metadata": {},
   "outputs": [],
   "source": [
    "# def convertToOneHot(vector, num_classes=None):\n",
    "#     result = np.zeros((len(vector), num_classes), dtype='int32')\n",
    "#     result[np.arange(len(vector)), vector] = 1\n",
    "#     return result"
   ]
  },
  {
   "cell_type": "code",
   "execution_count": 115,
   "metadata": {
    "collapsed": true
   },
   "outputs": [],
   "source": [
    "# Y_train=convertToOneHot(Y_train,num_classes=8)\n",
    "# Y_valid=convertToOneHot(Y_valid,num_classes=8)"
   ]
  },
  {
   "cell_type": "code",
   "execution_count": 116,
   "metadata": {},
   "outputs": [
    {
     "ename": "ValueError",
     "evalue": "could not broadcast input array from shape (64,150,150,3) into shape (64)",
     "output_type": "error",
     "traceback": [
      "\u001b[0;31m---------------------------------------------------------------------------\u001b[0m",
      "\u001b[0;31mValueError\u001b[0m                                Traceback (most recent call last)",
      "\u001b[0;32m<ipython-input-116-579ebc1e914d>\u001b[0m in \u001b[0;36m<module>\u001b[0;34m()\u001b[0m\n\u001b[1;32m      1\u001b[0m \u001b[0mrmd\u001b[0m\u001b[0;34m=\u001b[0m\u001b[0mnp\u001b[0m\u001b[0;34m.\u001b[0m\u001b[0mrandom\u001b[0m\u001b[0;34m.\u001b[0m\u001b[0mrandint\u001b[0m\u001b[0;34m(\u001b[0m\u001b[0;36m0\u001b[0m\u001b[0;34m,\u001b[0m\u001b[0mlen\u001b[0m\u001b[0;34m(\u001b[0m\u001b[0mtrain_generator\u001b[0m\u001b[0;34m)\u001b[0m\u001b[0;34m)\u001b[0m\u001b[0;34m\u001b[0m\u001b[0m\n\u001b[0;32m----> 2\u001b[0;31m \u001b[0mplt\u001b[0m\u001b[0;34m.\u001b[0m\u001b[0mimshow\u001b[0m\u001b[0;34m(\u001b[0m\u001b[0mnp\u001b[0m\u001b[0;34m.\u001b[0m\u001b[0masarray\u001b[0m\u001b[0;34m(\u001b[0m\u001b[0mtrain_generator\u001b[0m\u001b[0;34m[\u001b[0m\u001b[0mrmd\u001b[0m\u001b[0;34m]\u001b[0m\u001b[0;34m,\u001b[0m\u001b[0mdtype\u001b[0m\u001b[0;34m=\u001b[0m\u001b[0;34m\"uint8\"\u001b[0m\u001b[0;34m)\u001b[0m\u001b[0;34m,\u001b[0m\u001b[0minterpolation\u001b[0m\u001b[0;34m=\u001b[0m\u001b[0;34m\"bicubic\"\u001b[0m\u001b[0;34m)\u001b[0m\u001b[0;34m\u001b[0m\u001b[0m\n\u001b[0m",
      "\u001b[0;32m~/anaconda3/lib/python3.6/site-packages/numpy/core/numeric.py\u001b[0m in \u001b[0;36masarray\u001b[0;34m(a, dtype, order)\u001b[0m\n\u001b[1;32m    490\u001b[0m \u001b[0;34m\u001b[0m\u001b[0m\n\u001b[1;32m    491\u001b[0m     \"\"\"\n\u001b[0;32m--> 492\u001b[0;31m     \u001b[0;32mreturn\u001b[0m \u001b[0marray\u001b[0m\u001b[0;34m(\u001b[0m\u001b[0ma\u001b[0m\u001b[0;34m,\u001b[0m \u001b[0mdtype\u001b[0m\u001b[0;34m,\u001b[0m \u001b[0mcopy\u001b[0m\u001b[0;34m=\u001b[0m\u001b[0;32mFalse\u001b[0m\u001b[0;34m,\u001b[0m \u001b[0morder\u001b[0m\u001b[0;34m=\u001b[0m\u001b[0morder\u001b[0m\u001b[0;34m)\u001b[0m\u001b[0;34m\u001b[0m\u001b[0m\n\u001b[0m\u001b[1;32m    493\u001b[0m \u001b[0;34m\u001b[0m\u001b[0m\n\u001b[1;32m    494\u001b[0m \u001b[0;34m\u001b[0m\u001b[0m\n",
      "\u001b[0;31mValueError\u001b[0m: could not broadcast input array from shape (64,150,150,3) into shape (64)"
     ]
    }
   ],
   "source": [
    "rmd=np.random.randint(0,len(train_generator))\n",
    "plt.imshow(np.asarray(train_generator[rmd],dtype=\"uint8\"),interpolation=\"bicubic\")"
   ]
  },
  {
   "cell_type": "code",
   "execution_count": null,
   "metadata": {
    "collapsed": true
   },
   "outputs": [],
   "source": [
    "### Define the network"
   ]
  },
  {
   "cell_type": "code",
   "execution_count": 117,
   "metadata": {},
   "outputs": [],
   "source": [
    "# X_mean = np.mean( X_train, axis = 0)\n",
    "# X_std = np.std( X_train, axis = 0)\n",
    "\n",
    "# X_train = (X_train - X_mean ) / (X_std + 0.0001)\n",
    "# X_valid = (X_valid - X_mean ) / (X_std + 0.0001)"
   ]
  },
  {
   "cell_type": "code",
   "execution_count": 118,
   "metadata": {
    "collapsed": true
   },
   "outputs": [],
   "source": [
    "model = Sequential()\n",
    "name = 'cnn_wohnungsbilder'\n",
    "\n",
    "model.add(Convolution2D(15, (5, 5),padding='same',input_shape=(img_width,img_height,3)))\n",
    "#model.add(BatchNormalization())\n",
    "model.add(Activation('relu'))\n",
    "\n",
    "model.add(Convolution2D(15, (5,5),padding='same'))\n",
    "#model.add(BatchNormalization())\n",
    "model.add(Activation('relu'))\n",
    "\n",
    "model.add(MaxPooling2D(pool_size=(2,2)))\n",
    "\n",
    "model.add(Convolution2D(30, (5,5),padding='same'))\n",
    "#model.add(BatchNormalization())\n",
    "model.add(Dropout(0.3))\n",
    "model.add(Activation('relu'))\n",
    "\n",
    "model.add(Convolution2D(30, (5,5),padding='same'))\n",
    "#model.add(BatchNormalization())\n",
    "model.add(Dropout(0.3))\n",
    "model.add(Activation('relu'))\n",
    "\n",
    "model.add(Convolution2D(30, (3,3),padding='same'))\n",
    "#model.add(BatchNormalization())\n",
    "model.add(Dropout(0.3))\n",
    "model.add(Activation('relu'))\n",
    "\n",
    "model.add(Convolution2D(30, (3,3),padding='same'))\n",
    "#model.add(BatchNormalization())\n",
    "model.add(Dropout(0.3))\n",
    "model.add(Activation('relu'))\n",
    "\n",
    "model.add(Convolution2D(30, (3,3),padding='same'))\n",
    "#model.add(BatchNormalization())\n",
    "model.add(Activation('relu'))\n",
    "model.add(MaxPooling2D(pool_size=(4,4)))\n",
    "\n",
    "model.add(Flatten())\n",
    "model.add(Dense(300))\n",
    "model.add(BatchNormalization())\n",
    "model.add(Activation('relu'))\n",
    "model.add(Dropout(0.3))\n",
    "\n",
    "model.add(Dense(3))\n",
    "model.add(Activation('softmax'))\n",
    "\n",
    "model.compile(loss='categorical_crossentropy',\n",
    "              optimizer='sgd',\n",
    "              metrics=['accuracy'])"
   ]
  },
  {
   "cell_type": "code",
   "execution_count": null,
   "metadata": {
    "collapsed": true
   },
   "outputs": [],
   "source": []
  },
  {
   "cell_type": "code",
   "execution_count": 119,
   "metadata": {
    "scrolled": true
   },
   "outputs": [
    {
     "name": "stdout",
     "output_type": "stream",
     "text": [
      "_________________________________________________________________\n",
      "Layer (type)                 Output Shape              Param #   \n",
      "=================================================================\n",
      "conv2d_41 (Conv2D)           (None, 150, 150, 15)      1140      \n",
      "_________________________________________________________________\n",
      "activation_59 (Activation)   (None, 150, 150, 15)      0         \n",
      "_________________________________________________________________\n",
      "conv2d_42 (Conv2D)           (None, 150, 150, 15)      5640      \n",
      "_________________________________________________________________\n",
      "activation_60 (Activation)   (None, 150, 150, 15)      0         \n",
      "_________________________________________________________________\n",
      "max_pooling2d_19 (MaxPooling (None, 75, 75, 15)        0         \n",
      "_________________________________________________________________\n",
      "conv2d_43 (Conv2D)           (None, 75, 75, 30)        11280     \n",
      "_________________________________________________________________\n",
      "dropout_18 (Dropout)         (None, 75, 75, 30)        0         \n",
      "_________________________________________________________________\n",
      "activation_61 (Activation)   (None, 75, 75, 30)        0         \n",
      "_________________________________________________________________\n",
      "conv2d_44 (Conv2D)           (None, 75, 75, 30)        22530     \n",
      "_________________________________________________________________\n",
      "dropout_19 (Dropout)         (None, 75, 75, 30)        0         \n",
      "_________________________________________________________________\n",
      "activation_62 (Activation)   (None, 75, 75, 30)        0         \n",
      "_________________________________________________________________\n",
      "conv2d_45 (Conv2D)           (None, 75, 75, 30)        8130      \n",
      "_________________________________________________________________\n",
      "dropout_20 (Dropout)         (None, 75, 75, 30)        0         \n",
      "_________________________________________________________________\n",
      "activation_63 (Activation)   (None, 75, 75, 30)        0         \n",
      "_________________________________________________________________\n",
      "conv2d_46 (Conv2D)           (None, 75, 75, 30)        8130      \n",
      "_________________________________________________________________\n",
      "dropout_21 (Dropout)         (None, 75, 75, 30)        0         \n",
      "_________________________________________________________________\n",
      "activation_64 (Activation)   (None, 75, 75, 30)        0         \n",
      "_________________________________________________________________\n",
      "conv2d_47 (Conv2D)           (None, 75, 75, 30)        8130      \n",
      "_________________________________________________________________\n",
      "activation_65 (Activation)   (None, 75, 75, 30)        0         \n",
      "_________________________________________________________________\n",
      "max_pooling2d_20 (MaxPooling (None, 18, 18, 30)        0         \n",
      "_________________________________________________________________\n",
      "flatten_10 (Flatten)         (None, 9720)              0         \n",
      "_________________________________________________________________\n",
      "dense_19 (Dense)             (None, 300)               2916300   \n",
      "_________________________________________________________________\n",
      "batch_normalization_10 (Batc (None, 300)               1200      \n",
      "_________________________________________________________________\n",
      "activation_66 (Activation)   (None, 300)               0         \n",
      "_________________________________________________________________\n",
      "dropout_22 (Dropout)         (None, 300)               0         \n",
      "_________________________________________________________________\n",
      "dense_20 (Dense)             (None, 3)                 903       \n",
      "_________________________________________________________________\n",
      "activation_67 (Activation)   (None, 3)                 0         \n",
      "=================================================================\n",
      "Total params: 2,983,383\n",
      "Trainable params: 2,982,783\n",
      "Non-trainable params: 600\n",
      "_________________________________________________________________\n"
     ]
    }
   ],
   "source": [
    "model.summary()"
   ]
  },
  {
   "cell_type": "code",
   "execution_count": 120,
   "metadata": {
    "collapsed": true
   },
   "outputs": [],
   "source": [
    "# setup tensorboard\n",
    "tensorboard = keras.callbacks.TensorBoard(\n",
    "        log_dir='tensorboard/' + name + '/', \n",
    "        write_graph=True,\n",
    "        histogram_freq=0)\n",
    "\n",
    "#save model after every 10 epochs \n",
    "savedir = \"checkpoints/\"+name+\"/\"\n",
    "os.makedirs(savedir,exist_ok=True)       \n",
    "checkpointer = keras.callbacks.ModelCheckpoint( \n",
    "        filepath =  savedir+\"weights_epoch_{epoch:03d}-{val_loss:.2f}.hdf5\",\n",
    "        verbose = 1, \n",
    "        save_best_only = False,\n",
    "        period = 10 )"
   ]
  },
  {
   "cell_type": "code",
   "execution_count": 121,
   "metadata": {},
   "outputs": [
    {
     "name": "stdout",
     "output_type": "stream",
     "text": [
      "Epoch 1/20\n",
      "15/15 [==============================] - 11311s 754s/step - loss: 0.8335 - acc: 0.6319 - val_loss: 1.0976 - val_acc: 0.4573\n",
      "Epoch 2/20\n",
      "15/15 [==============================] - 202s 13s/step - loss: 0.4229 - acc: 0.8717 - val_loss: 1.5234 - val_acc: 0.5183\n",
      "Epoch 3/20\n",
      "15/15 [==============================] - 203s 14s/step - loss: 0.4083 - acc: 0.8592 - val_loss: 1.3911 - val_acc: 0.6098\n",
      "Epoch 4/20\n",
      "15/15 [==============================] - 202s 13s/step - loss: 0.3838 - acc: 0.8809 - val_loss: 1.2034 - val_acc: 0.6220\n",
      "Epoch 5/20\n",
      "15/15 [==============================] - 624s 42s/step - loss: 0.3301 - acc: 0.8945 - val_loss: 1.6395 - val_acc: 0.4817\n",
      "Epoch 6/20\n",
      "15/15 [==============================] - 230s 15s/step - loss: 0.3406 - acc: 0.8790 - val_loss: 1.7277 - val_acc: 0.4573\n",
      "Epoch 7/20\n",
      "15/15 [==============================] - 234s 16s/step - loss: 0.3576 - acc: 0.8780 - val_loss: 1.4108 - val_acc: 0.5427\n",
      "Epoch 8/20\n",
      "15/15 [==============================] - 235s 16s/step - loss: 0.3081 - acc: 0.9007 - val_loss: 1.7038 - val_acc: 0.4878\n",
      "Epoch 9/20\n",
      "15/15 [==============================] - 220s 15s/step - loss: 0.3098 - acc: 0.8982 - val_loss: 1.2004 - val_acc: 0.5915\n",
      "Epoch 10/20\n",
      "15/15 [==============================] - 227s 15s/step - loss: 0.2882 - acc: 0.9043 - val_loss: 1.8321 - val_acc: 0.4573\n",
      "Epoch 11/20\n",
      "15/15 [==============================] - 226s 15s/step - loss: 0.3580 - acc: 0.8634 - val_loss: 1.7904 - val_acc: 0.4756\n",
      "Epoch 12/20\n",
      "15/15 [==============================] - 227s 15s/step - loss: 0.2761 - acc: 0.9085 - val_loss: 1.8046 - val_acc: 0.4573\n",
      "Epoch 13/20\n",
      "15/15 [==============================] - 224s 15s/step - loss: 0.2717 - acc: 0.9151 - val_loss: 1.6944 - val_acc: 0.4573\n",
      "Epoch 14/20\n",
      "15/15 [==============================] - 239s 16s/step - loss: 0.2714 - acc: 0.9143 - val_loss: 1.1119 - val_acc: 0.5610\n",
      "Epoch 15/20\n",
      "15/15 [==============================] - 235s 16s/step - loss: 0.2818 - acc: 0.9105 - val_loss: 1.3160 - val_acc: 0.4634\n",
      "Epoch 16/20\n",
      "15/15 [==============================] - 265s 18s/step - loss: 0.2624 - acc: 0.9135 - val_loss: 1.2670 - val_acc: 0.4817\n",
      "Epoch 17/20\n",
      "15/15 [==============================] - 268s 18s/step - loss: 0.2468 - acc: 0.9251 - val_loss: 1.1238 - val_acc: 0.5610\n",
      "Epoch 18/20\n",
      "15/15 [==============================] - 245s 16s/step - loss: 0.2408 - acc: 0.9166 - val_loss: 1.3202 - val_acc: 0.4939\n",
      "Epoch 19/20\n",
      "15/15 [==============================] - 244s 16s/step - loss: 0.2538 - acc: 0.9093 - val_loss: 0.8394 - val_acc: 0.6707\n",
      "Epoch 20/20\n",
      "15/15 [==============================] - 246s 16s/step - loss: 0.3042 - acc: 0.8947 - val_loss: 1.2451 - val_acc: 0.5671\n"
     ]
    }
   ],
   "source": [
    "# run training\n",
    "history = model.fit_generator(\n",
    "    generator=train_generator,\n",
    "    epochs=epochs,\n",
    "    validation_data=valid_generator)"
   ]
  },
  {
   "cell_type": "code",
   "execution_count": 66,
   "metadata": {},
   "outputs": [
    {
     "ename": "NameError",
     "evalue": "name 'X_train' is not defined",
     "output_type": "error",
     "traceback": [
      "\u001b[0;31m---------------------------------------------------------------------------\u001b[0m",
      "\u001b[0;31mNameError\u001b[0m                                 Traceback (most recent call last)",
      "\u001b[0;32m<ipython-input-66-5dd756028cdd>\u001b[0m in \u001b[0;36m<module>\u001b[0;34m()\u001b[0m\n\u001b[0;32m----> 1\u001b[0;31m \u001b[0mmodel\u001b[0m\u001b[0;34m.\u001b[0m\u001b[0mevaluate\u001b[0m\u001b[0;34m(\u001b[0m\u001b[0mX_train\u001b[0m\u001b[0;34m,\u001b[0m\u001b[0mY_train\u001b[0m\u001b[0;34m)\u001b[0m\u001b[0;34m\u001b[0m\u001b[0m\n\u001b[0m",
      "\u001b[0;31mNameError\u001b[0m: name 'X_train' is not defined"
     ]
    }
   ],
   "source": [
    "model.evaluate(X_train,Y_train)"
   ]
  },
  {
   "cell_type": "code",
   "execution_count": 122,
   "metadata": {},
   "outputs": [
    {
     "data": {
      "image/png": "[encoded data removed]",
      "text/plain": [
       "<matplotlib.figure.Figure at 0x1c2b09e358>"
      ]
     },
     "metadata": {},
     "output_type": "display_data"
    }
   ],
   "source": [
    "plt.figure(figsize=(8,4))\n",
    "plt.subplot(1, 2, 1)\n",
    "plt.plot(history.history[\"acc\"])\n",
    "plt.plot(history.history[\"val_acc\"])\n",
    "plt.title(\"model accuracy\")\n",
    "plt.ylabel(\"accuracy\")\n",
    "plt.xlabel(\"Epoch\")\n",
    "plt.legend([\"train\", \"valid\"], loc=\"lower right\")\n",
    "\n",
    "plt.subplot(1, 2, 2)\n",
    "plt.plot(history.history[\"loss\"])\n",
    "plt.plot(history.history[\"val_loss\"])\n",
    "plt.title(\"model loss\")\n",
    "plt.ylabel(\"loss\")\n",
    "plt.xlabel(\"Epoch\")\n",
    "plt.legend([\"train\", \"valid\"], loc=\"upper right\")\n",
    "plt.show()"
   ]
  },
  {
   "cell_type": "code",
   "execution_count": null,
   "metadata": {
    "collapsed": true
   },
   "outputs": [],
   "source": []
  }
 ],
 "metadata": {
  "kernelspec": {
   "display_name": "Python 3",
   "language": "python",
   "name": "python3"
  },
  "language_info": {
   "codemirror_mode": {
    "name": "ipython",
    "version": 3
   },
   "file_extension": ".py",
   "mimetype": "text/x-python",
   "name": "python",
   "nbconvert_exporter": "python",
   "pygments_lexer": "ipython3",
   "version": "3.6.2"
  }
 },
 "nbformat": 4,
 "nbformat_minor": 2
}

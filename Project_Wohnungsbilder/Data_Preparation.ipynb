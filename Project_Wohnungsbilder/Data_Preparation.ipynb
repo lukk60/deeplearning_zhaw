{
 "cells": [
  {
   "cell_type": "markdown",
   "metadata": {},
   "source": [
    "# Classifier für Wohnungsbilder"
   ]
  },
  {
   "cell_type": "markdown",
   "metadata": {},
   "source": [
    "## Data Preparation"
   ]
  },
  {
   "cell_type": "markdown",
   "metadata": {},
   "source": [
    "### Load Data"
   ]
  },
  {
   "cell_type": "code",
   "execution_count": 132,
   "metadata": {},
   "outputs": [],
   "source": [
    "import PIL.Image\n",
    "from PIL.ExifTags import TAGS\n",
    "\n",
    "import os, sys\n",
    "from shutil import copyfile\n",
    "\n",
    "import numpy as np\n",
    "import random \n",
    "\n",
    "# load images\n",
    "all_files = os.listdir(\"data/raw\")"
   ]
  },
  {
   "cell_type": "code",
   "execution_count": 134,
   "metadata": {},
   "outputs": [],
   "source": [
    "# extract image title from EXIF\n",
    "def extract_labels(image_files, field_name = \"XPSubject\"):\n",
    "    \n",
    "    # extract field from Exif\n",
    "    def get_field(exif, field):\n",
    "        for (k,v) in exif.items():\n",
    "            if TAGS.get(k) == field:\n",
    "                return v.decode(\"utf-16\")\n",
    "\n",
    "    labels = {}\n",
    "\n",
    "    for i in image_files:\n",
    "        img = PIL.Image.open(\"data/raw/\" + i)\n",
    "        exif = img._getexif()\n",
    "        title = get_field(exif, field_name)\n",
    "        labels[i] = title\n",
    "        img.close()\n",
    "\n",
    "    return labels\n",
    "\n",
    "all_labels = extract_labels(all_files)"
   ]
  },
  {
   "cell_type": "code",
   "execution_count": 136,
   "metadata": {},
   "outputs": [
    {
     "name": "stdout",
     "output_type": "stream",
     "text": [
      "{'Bad', 'Innenansicht', 'Grundriss', 'Aussenansicht', 'Divers', 'Küche'}\n",
      "6 Classes\n"
     ]
    }
   ],
   "source": [
    "# consolidate labels (e.g. different languages, Special Characters)\n",
    "def consolidate_labels(labels):\n",
    "    \n",
    "    # consolidate languages\n",
    "    recodes_language = {\n",
    "        \"Plan d'ensemble\": \"Grundriss\",\n",
    "        \"Pianta\":\"Grundriss\",\n",
    "        \"Vue extérieure\": \"Aussenansicht\",\n",
    "        \"Cuisine\": \"Küche\",\n",
    "        \"Salle de bains\":\"Bad\",\n",
    "        \"Vue intérieure\":\"Innenansicht\",\n",
    "        \"Cucina\":\"Küche\",\n",
    "        \"Bagno\":\"Bad\",\n",
    "        \"Diverse\":\"Divers\",\n",
    "        \"Varie\": \"Divers\",\n",
    "        \"Bild  LIA\":\"Divers\",\n",
    "        \"immagine  LIA\":\"Divers\",\n",
    "        \"immagine  LIA\":\"Divers\",\n",
    "        \"Balkon/Terrasse/Sitzplatz\":\"Balkon_Terrasse_Sitzplatz\",\n",
    "        \"Balcone/terrazza/posto a sedere\":\"Balkon_Terrasse_Sitzplatz\",\n",
    "        \"Veduta esterna\":\"Aussenansicht\", \n",
    "        \"Stanza\":\"Zimmer\",\n",
    "        \"Vue\":\"Aussicht\",\n",
    "        \"Prospettiva\":\"Aussicht\",\n",
    "        \"Soggiorno\":\"Wohnzimmer\", \n",
    "        \"Séjour\":\"Wohnzimmer\",\n",
    "        \"Pièce\":\"Zimmer\",\n",
    "        \"Veduta interna\":\"Innenansicht\", \n",
    "        \"corridoio\":\"Korridor\",\n",
    "        \"couloir\":\"Korridor\"\n",
    "    }\n",
    "    \n",
    "    # group classes to get approx. even distribution \n",
    "    recodes_groups = {\n",
    "        \"Aussenansicht\":\"Aussenansicht\",\n",
    "        \"Küche\":\"Küche\", \n",
    "        \"Bad\":\"Bad\",\n",
    "        \"Zimmer\":\"Innenansicht\",\n",
    "        \"Innenansicht\":\"Innenansicht\",\n",
    "        \"Wohnzimmer\":\"Innenansicht\",\n",
    "        \"Korridor\":\"Innenansicht\",\n",
    "        \"Grundriss\":\"Grundriss\",\n",
    "        \"Divers\":\"Divers\",\n",
    "        \"Aussicht\":\"Divers\",\n",
    "        \"Balkon_Terrasse_Sitzplatz\":\"Divers\"\n",
    "    }\n",
    "    \n",
    "    for l in labels.keys():\n",
    "        if labels[l] in recodes_language.keys():\n",
    "            labels[l] = recodes_language[labels[l]]\n",
    "        \n",
    "        if labels[l] in recodes_groups.keys():\n",
    "            labels[l] = recodes_groups[labels[l]]\n",
    "            \n",
    "    return(labels)\n",
    "\n",
    "\n",
    "all_labels_clean = consolidate_labels(all_labels)\n",
    "classes = set(all_labels_clean.values())           \n",
    "print(label_set)\n",
    "print(len(classes), \"Classes\")"
   ]
  },
  {
   "cell_type": "code",
   "execution_count": 163,
   "metadata": {},
   "outputs": [],
   "source": [
    "# organize files in one folder per class\n",
    "def organize_files(input_dir, output_dir, labels, files):\n",
    "    \n",
    "    classes = set(labels.values())\n",
    "\n",
    "    for c in classes:\n",
    "        if not os.path.isdir(output_dir+c):\n",
    "            os.mkdir(output_dir+c)\n",
    "    \n",
    "    for f in files:\n",
    "        src = input_dir + f        \n",
    "        dst = output_dir + labels[f] + \"/\" + f\n",
    "        os.rename(src, dst)\n",
    "        \n",
    "\n",
    "# Split training, validation and testset\n",
    "def split_data(input_dir, output_dir, labels_clean, probs=(0.75, 0.125, 0.125)):\n",
    "    \n",
    "    train_dir = output_dir + \"train/\"\n",
    "    valid_dir = output_dir + \"valid/\"\n",
    "    test_dir  = output_dir + \"test/\"\n",
    "    \n",
    "    # setup folders\n",
    "    if not os.path.isdir(train_dir): os.mkdir(train_dir)\n",
    "    if not os.path.isdir(valid_dir): os.mkdir(valid_dir)\n",
    "    if not os.path.isdir(test_dir): os.mkdir(test_dir)\n",
    "\n",
    "    # split data\n",
    "    np.random.seed(1)\n",
    "    splits = np.random.choice([0,1,2], size = len(labels), p = probs)\n",
    "    labels_keys = np.array(list(labels_clean.keys()))\n",
    "    \n",
    "    train_files = labels_keys[splits == 0]\n",
    "    valid_files = labels_keys[splits == 1]\n",
    "    test_files  = labels_keys[splits == 2]\n",
    "    \n",
    "    # copy files to correct train-, valid-, test-folder\n",
    "    for f in train_files: copyfile(input_dir + f, train_dir + f)\n",
    "    for f in valid_files: copyfile(input_dir + f, valid_dir + f)\n",
    "    for f in test_files: copyfile(input_dir + f, test_dir + f)\n",
    "        \n",
    "    # organize files by class\n",
    "    organize_files(train_dir, train_dir, labels_clean, train_files)\n",
    "    organize_files(valid_dir, valid_dir, labels_clean, valid_files)\n",
    "    organize_files(test_dir, test_dir, labels_clean, test_files)\n",
    "    \n",
    "split_data(\"data/raw/\", \"data/clean/\", labels_clean)"
   ]
  },
  {
   "cell_type": "code",
   "execution_count": null,
   "metadata": {},
   "outputs": [],
   "source": []
  }
 ],
 "metadata": {
  "kernelspec": {
   "display_name": "Python 3",
   "language": "python",
   "name": "python3"
  },
  "language_info": {
   "codemirror_mode": {
    "name": "ipython",
    "version": 3
   },
   "file_extension": ".py",
   "mimetype": "text/x-python",
   "name": "python",
   "nbconvert_exporter": "python",
   "pygments_lexer": "ipython3",
   "version": "3.6.4"
  }
 },
 "nbformat": 4,
 "nbformat_minor": 2
}

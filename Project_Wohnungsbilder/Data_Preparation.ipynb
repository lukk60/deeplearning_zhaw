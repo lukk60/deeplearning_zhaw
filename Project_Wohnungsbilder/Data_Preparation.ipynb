{
 "cells": [
  {
   "cell_type": "markdown",
   "metadata": {},
   "source": [
    "# Classifier für Wohnungsbilder"
   ]
  },
  {
   "cell_type": "markdown",
   "metadata": {},
   "source": [
    "## Data Preparation"
   ]
  },
  {
   "cell_type": "markdown",
   "metadata": {},
   "source": [
    "### Load Data"
   ]
  },
  {
   "cell_type": "code",
   "execution_count": null,
   "metadata": {},
   "outputs": [],
   "source": [
    "import PIL.Image\n",
    "from PIL.ExifTags import TAGS\n",
    "\n",
    "import os, sys\n",
    "from shutil import copyfile\n",
    "\n",
    "# load images\n",
    "image_files = os.listdir(\"data/raw\")"
   ]
  },
  {
   "cell_type": "code",
   "execution_count": 7,
   "metadata": {},
   "outputs": [],
   "source": [
    "# extract image title from EXIF\n",
    "def extract_labels(image_files, field_name = \"XPSubject\"):\n",
    "    def get_field(exif, field):\n",
    "        for (k,v) in exif.items():\n",
    "            if TAGS.get(k) == field:\n",
    "                return v.decode(\"utf-16\")\n",
    "\n",
    "    labels = {}\n",
    "\n",
    "    for i in image_files:\n",
    "        img = PIL.Image.open(\"data/raw/\" + i)\n",
    "        exif = img._getexif()\n",
    "        title = get_field(exif, field_name)\n",
    "        labels[i] = title\n",
    "        img.close()\n",
    "\n",
    "    return labels\n",
    "\n",
    "labels = extract_labels(image_files)"
   ]
  },
  {
   "cell_type": "code",
   "execution_count": 11,
   "metadata": {},
   "outputs": [
    {
     "name": "stdout",
     "output_type": "stream",
     "text": [
      "{'Pianta', 'Balkon_Terrasse_Sitzplatz', 'Grundriss', 'Divers', 'Innenansicht', 'Veduta interna', 'Aussenansicht', 'corridoio', 'Soggiorno', 'Korridor', 'Diverse', 'Séjour', 'Zimmer', 'Bad', 'Wohnzimmer', 'couloir', 'Aussicht', 'Bild  LIA', 'Küche', 'Pièce'}\n"
     ]
    }
   ],
   "source": [
    "# consolidate labels (e.g. different languages, Special Characters)\n",
    "def consolidate_labels(labels):\n",
    "    recodes = {\n",
    "        \"Plan d'ensemble\": \"Grundriss\",\n",
    "        \"Vue extérieure\": \"Aussenansicht\",\n",
    "        \"Varie\": \"Diverse\",\n",
    "        \"Cuisine\": \"Küche\",\n",
    "        \"Salle de bains\":\"Bad\",\n",
    "        \"Vue intérieure\":\"Innenansicht\",\n",
    "        \"Cucina\":\"Küche\",\n",
    "        \"Bagno\":\"Bad\",\n",
    "        \"immagine  LIA\":\"Bild  LIA\",\n",
    "        \"Balkon/Terrasse/Sitzplatz\":\"Balkon_Terrasse_Sitzplatz\",\n",
    "        \"Balcone/terrazza/posto a sedere\":\"Balkon_Terrasse_Sitzplatz\",\n",
    "        \"immagine  LIA\":\"Bild  LIA\",\n",
    "        \"Veduta esterna\":\"Aussenansicht\", \n",
    "        \"Stanza\":\"Zimmer\",\n",
    "        \"Vue\":\"Aussicht\",\n",
    "        \"Prospettiva\":\"Aussicht\"\n",
    "    }\n",
    "    \n",
    "    for l in labels.keys():\n",
    "        if labels[l] in recodes.keys():\n",
    "            labels[l] = recodes[labels[l]]\n",
    "            \n",
    "    return(labels)\n",
    "\n",
    "labels_clean = consolidate_labels(labels)\n",
    "            \n",
    "print(set(labels_clean.values()))\n"
   ]
  },
  {
   "cell_type": "code",
   "execution_count": 12,
   "metadata": {},
   "outputs": [],
   "source": [
    "# organize files in one folder per class\n",
    "def organize_files(input_dir, output_dir, labels):\n",
    "    \n",
    "    classes = set(labels.values())\n",
    "\n",
    "    for c in classes:\n",
    "        if not os.path.isdir(output_dir+c):\n",
    "            os.mkdir(output_dir+c)\n",
    "\n",
    "    for f in image_files:\n",
    "        src = input_dir + f\n",
    "        dst = output_dir + labels[f] + \"/\" + f\n",
    "        copyfile(src, dst)\n",
    "    \n",
    "organize_files(\"data/raw/\", \"data/clean/\", labels)"
   ]
  },
  {
   "cell_type": "code",
   "execution_count": null,
   "metadata": {},
   "outputs": [],
   "source": []
  }
 ],
 "metadata": {
  "kernelspec": {
   "display_name": "Python 3",
   "language": "python",
   "name": "python3"
  },
  "language_info": {
   "codemirror_mode": {
    "name": "ipython",
    "version": 3
   },
   "file_extension": ".py",
   "mimetype": "text/x-python",
   "name": "python",
   "nbconvert_exporter": "python",
   "pygments_lexer": "ipython3",
   "version": "3.6.4"
  }
 },
 "nbformat": 4,
 "nbformat_minor": 2
}

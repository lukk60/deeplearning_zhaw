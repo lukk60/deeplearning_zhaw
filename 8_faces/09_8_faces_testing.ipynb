{
 "cells": [
  {
   "cell_type": "code",
   "execution_count": 1,
   "metadata": {},
   "outputs": [],
   "source": [
    "# Evaluation on Testset"
   ]
  },
  {
   "cell_type": "code",
   "execution_count": 7,
   "metadata": {},
   "outputs": [
    {
     "name": "stdout",
     "output_type": "stream",
     "text": [
      "Keras 2.1.4 TF 1.2.1 Python sys.version_info(major=3, minor=6, micro=4, releaselevel='final', serial=0)\n"
     ]
    }
   ],
   "source": [
    "import os\n",
    "os.environ[\"KERAS_BACKEND\"] = \"tensorflow\"\n",
    "\n",
    "%matplotlib inline\n",
    "\n",
    "import matplotlib.pyplot as plt\n",
    "import matplotlib.image as imgplot\n",
    "import numpy as np\n",
    "from sklearn.metrics import confusion_matrix\n",
    "from keras.utils.vis_utils import model_to_dot\n",
    "\n",
    "import h5py\n",
    "import time\n",
    "import tensorflow as tf\n",
    "tf.set_random_seed(1)\n",
    "\n",
    "from keras.models import Sequential\n",
    "from keras.layers import Dense, Activation, Dropout, BatchNormalization\n",
    "from keras.layers import Convolution2D, MaxPooling2D, Flatten\n",
    "import keras\n",
    "import sys\n",
    "print (\"Keras {} TF {} Python {}\".format(keras.__version__, tf.__version__, sys.version_info))"
   ]
  },
  {
   "cell_type": "code",
   "execution_count": 8,
   "metadata": {},
   "outputs": [],
   "source": [
    "# Downloading the data, if it does not exist\n",
    "import urllib\n",
    "if not os.path.isfile('8_faces_test.hdf5'):\n",
    "    urllib.request.urlretrieve(\n",
    "    \"https://www.dropbox.com/s/ugxrdo0lpc2ixvr/8_faces_test.hdf5?dl=1\",\n",
    "    \"8_faces_test.hdf5\")"
   ]
  },
  {
   "cell_type": "code",
   "execution_count": 12,
   "metadata": {},
   "outputs": [
    {
     "name": "stdout",
     "output_type": "stream",
     "text": [
      "['X_train_8_faces', 'X_valid_8_faces', 'Y_train_8_faces', 'Y_valid_8_faces']\n",
      "(2000, 48, 48, 3)\n",
      "(2000,)\n",
      "(400, 48, 48, 3)\n",
      "(400,)\n"
     ]
    }
   ],
   "source": [
    "import h5py\n",
    "\n",
    "h5f_X = h5py.File('8_faces_train_and_valid.hdf5', 'r')\n",
    "print(list(h5f_X.keys()))\n",
    "X_train = h5f_X['X_train_8_faces']\n",
    "print(X_train.shape)\n",
    "Y_train_raw = h5f_X['Y_train_8_faces']\n",
    "print(Y_train_raw.shape)\n",
    "X_valid = h5f_X['X_valid_8_faces']\n",
    "print(X_valid.shape)\n",
    "Y_valid_raw = h5f_X['Y_valid_8_faces']\n",
    "print(Y_valid_raw.shape)\n",
    "\n",
    "class_labels = [\"0 - Miranda Cosgrove\", \"1 - Chris Martin\", \"2 - Emma Stone\", \n",
    "               \"3 - Jamie Foxx\", \"4 - Steve Jobs\", \"5 - Zac Efron\", \"6 - Sandra Oh\",\n",
    "               \"7 - Taryn Manning\"]\n",
    "\n"
   ]
  },
  {
   "cell_type": "code",
   "execution_count": 13,
   "metadata": {},
   "outputs": [
    {
     "name": "stdout",
     "output_type": "stream",
     "text": [
      "['X_test_8_faces', 'Y_test_8_faces']\n",
      "(400, 48, 48, 3)\n",
      "(400,)\n"
     ]
    }
   ],
   "source": [
    "h5f_X = h5py.File('8_faces_test.hdf5', 'r')\n",
    "print(list(h5f_X.keys()))\n",
    "X_test = h5f_X['X_test_8_faces']\n",
    "print(X_test.shape)\n",
    "Y_test = h5f_X['Y_test_8_faces']\n",
    "print(Y_test.shape)"
   ]
  },
  {
   "cell_type": "code",
   "execution_count": 14,
   "metadata": {},
   "outputs": [],
   "source": [
    "X_mean = np.mean( X_train, axis = 0)\n",
    "X_std = np.std( X_train, axis = 0)\n",
    "\n",
    "X_train = (X_train - X_mean ) / (X_std + 0.0001)\n",
    "X_valid = (X_valid - X_mean ) / (X_std + 0.0001)"
   ]
  },
  {
   "cell_type": "code",
   "execution_count": 15,
   "metadata": {},
   "outputs": [],
   "source": [
    "X_test = (X_test - X_mean ) / (X_std + 0.0001)"
   ]
  },
  {
   "cell_type": "code",
   "execution_count": 19,
   "metadata": {},
   "outputs": [],
   "source": [
    "model = Sequential()\n",
    "name = '4CL_dropout_Datagen'\n",
    "\n",
    "# Convolutional Part\n",
    "model.add(Convolution2D(32, (3,3), input_shape=(48, 48, 3)))\n",
    "#model.add(BatchNormalization())\n",
    "model.add(Activation(\"relu\"))\n",
    "\n",
    "model.add(Convolution2D(32, (3,3)))\n",
    "#model.add(BatchNormalization())\n",
    "model.add(Activation(\"relu\"))\n",
    "model.add(MaxPooling2D((2,2), 2))\n",
    "model.add(Dropout(0.3))\n",
    "\n",
    "model.add(Convolution2D(64, (3,3)))\n",
    "#model.add(BatchNormalization())\n",
    "model.add(Activation(\"relu\"))\n",
    "\n",
    "model.add(Convolution2D(64, (3,3)))\n",
    "#model.add(BatchNormalization())\n",
    "model.add(Activation(\"relu\"))\n",
    "model.add(MaxPooling2D((2,2), 2))\n",
    "model.add(Dropout(0.3))\n",
    "\n",
    "model.add(Convolution2D(64, (3,3)))\n",
    "#model.add(BatchNormalization())\n",
    "model.add(Activation(\"relu\"))\n",
    "\n",
    "model.add(Convolution2D(64, (3,3)))\n",
    "#model.add(BatchNormalization())\n",
    "model.add(Activation(\"relu\"))\n",
    "model.add(MaxPooling2D((2,2), 2))\n",
    "model.add(Dropout(0.3))\n",
    "\n",
    "# Dense Part\n",
    "model.add(Flatten())\n",
    "\n",
    "model.add(Dense(80))\n",
    "model.add(Dropout(0.3))\n",
    "model.add(Activation(\"relu\"))\n",
    "\n",
    "model.add(Dense(40))\n",
    "model.add(Dropout(0.3))\n",
    "model.add(Activation(\"relu\"))\n",
    "#model.add(BatchNormalization())\n",
    "\n",
    "# Output Layer\n",
    "model.add(Dense(8))\n",
    "model.add(Activation(\"softmax\"))\n",
    "\n",
    "model.compile(loss=\"categorical_crossentropy\",\n",
    "              optimizer=\"adam\",\n",
    "              metrics=[\"accuracy\"])\n",
    "            "
   ]
  },
  {
   "cell_type": "code",
   "execution_count": 20,
   "metadata": {},
   "outputs": [],
   "source": [
    "model.load_weights('Checkpoints/8_faces/4CL_dropout_Datagen/4CL_dropout_Datagenweights_epoch_050-0.98.hdf5')"
   ]
  },
  {
   "cell_type": "code",
   "execution_count": 21,
   "metadata": {},
   "outputs": [],
   "source": [
    "preds_test=model.predict(X_test)"
   ]
  },
  {
   "cell_type": "code",
   "execution_count": 22,
   "metadata": {},
   "outputs": [
    {
     "name": "stdout",
     "output_type": "stream",
     "text": [
      "[[47  0  2  0  0  1  0  0]\n",
      " [ 0 21  2  5  5  7  9  1]\n",
      " [ 0  1 45  0  0  0  0  4]\n",
      " [ 0  0  2 47  0  0  1  0]\n",
      " [ 0  4  0  3 41  1  0  1]\n",
      " [ 6  0  1  0  0 43  0  0]\n",
      " [10  0  1  1  1  1 34  2]\n",
      " [ 6  3 13  1  0  2  2 23]]\n",
      "Acc =  0.7525\n"
     ]
    }
   ],
   "source": [
    "print(confusion_matrix(Y_test[:],np.argmax(preds_test,axis=1)))\n",
    "print(\"Acc = \" ,np.sum(Y_test[:]==np.argmax(preds_test,axis=1))/len(preds_test))"
   ]
  },
  {
   "cell_type": "code",
   "execution_count": null,
   "metadata": {},
   "outputs": [],
   "source": []
  }
 ],
 "metadata": {
  "kernelspec": {
   "display_name": "Python 3",
   "language": "python",
   "name": "python3"
  },
  "language_info": {
   "codemirror_mode": {
    "name": "ipython",
    "version": 3
   },
   "file_extension": ".py",
   "mimetype": "text/x-python",
   "name": "python",
   "nbconvert_exporter": "python",
   "pygments_lexer": "ipython3",
   "version": "3.6.4"
  }
 },
 "nbformat": 4,
 "nbformat_minor": 2
}
